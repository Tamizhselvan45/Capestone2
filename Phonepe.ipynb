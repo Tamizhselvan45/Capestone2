{
 "cells": [
  {
   "cell_type": "code",
   "execution_count": 1,
   "id": "a16104f4",
   "metadata": {},
   "outputs": [],
   "source": [
    "import streamlit as st\n",
    "from PIL import Image\n",
    "import os\n",
    "import json\n",
    "from streamlit_option_menu import option_menu\n",
    "import subprocess\n",
    "import plotly.express as px\n",
    "import pandas as pd\n",
    "import sqlite3\n",
    "import requests"
   ]
  },
  {
   "cell_type": "code",
   "execution_count": 2,
   "id": "957e409e",
   "metadata": {},
   "outputs": [],
   "source": [
    "phn = Image.open(\"images/phn.png\")\n",
    "st.set_page_config(page_title=\"PhonePe Pulse\", page_icon=phn, layout=\"wide\", )\n",
    "\n"
   ]
  },
  {
   "cell_type": "code",
   "execution_count": 3,
   "id": "7bf29442",
   "metadata": {},
   "outputs": [],
   "source": [
    "# TO GET THE DATA-FRAME OF AGGREGATED <--> TRANSACTION\n",
    "\n",
    "path1 = \"C:\\\\Users\\\\Sathya\\\\Downloads\\\\PhonePe\\\\pulse-master\\\\data\\\\aggregated\\\\transaction\\\\country\\\\india\\\\state\\\\\"\n",
    "Agg_state_list = os.listdir(path1)\n",
    "\n",
    "col1 = {'State': [], 'Year': [], 'Quater': [], 'Transaction_type': [], 'Transaction_count': [],\n",
    "        'Transaction_amount': []}\n",
    "for i in Agg_state_list:\n",
    "    p_i = path1 + i + \"/\"\n",
    "    Agg_yr = os.listdir(p_i)\n",
    "\n",
    "    for j in Agg_yr:\n",
    "        p_j = p_i + j + \"/\"\n",
    "        Agg_yr_list = os.listdir(p_j)\n",
    "\n",
    "        for k in Agg_yr_list:\n",
    "            p_k = p_j + k\n",
    "            # print(p_k)\n",
    "            Data = open(p_k, 'r')\n",
    "            A = json.load(Data)\n",
    "            for z in A['data']['transactionData']:\n",
    "                Name = z['name']\n",
    "                count = z['paymentInstruments'][0]['count']\n",
    "                amount = z['paymentInstruments'][0]['amount']\n",
    "                col1['Transaction_type'].append(Name)\n",
    "                col1['Transaction_count'].append(count)\n",
    "                col1['Transaction_amount'].append(amount)\n",
    "                col1['State'].append(i)\n",
    "                col1['Year'].append(j)\n",
    "                col1['Quater'].append(int(k.strip('.json')))\n",
    "df_aggregated_transaction = pd.DataFrame(col1)"
   ]
  },
  {
   "cell_type": "code",
   "execution_count": 6,
   "id": "40dc7790",
   "metadata": {},
   "outputs": [],
   "source": [
    "# df_aggregated_transaction"
   ]
  },
  {
   "cell_type": "code",
   "execution_count": 4,
   "id": "50c47ab5",
   "metadata": {},
   "outputs": [],
   "source": [
    "# TO GET THE DATA-FRAME OF AGGREGATED <--> USER\n",
    "\n",
    "path2 = \"C:\\\\Users\\\\Sathya\\\\Downloads\\\\PhonePe\\\\pulse-master\\\\data\\\\aggregated\\\\user\\\\country\\\\india\\\\state\\\\\"\n",
    "user_list = os.listdir(path2)\n",
    "\n",
    "col2 = {'State': [], 'Year': [], 'Quater': [], 'brands': [], 'Count': [],\n",
    "        'Percentage': []}\n",
    "for i in user_list:\n",
    "    p_i = path2 + i + \"/\"\n",
    "    Agg_yr = os.listdir(p_i)\n",
    "\n",
    "    for j in Agg_yr:\n",
    "        p_j = p_i + j + \"/\"\n",
    "        Agg_yr_list = os.listdir(p_j)\n",
    "\n",
    "        for k in Agg_yr_list:\n",
    "            p_k = p_j + k\n",
    "            # print(p_k)\n",
    "            Data = open(p_k, 'r')\n",
    "            B = json.load(Data)\n",
    "            try:\n",
    "                for w in B[\"data\"][\"usersByDevice\"]:\n",
    "                    brand_name = w[\"brand\"]\n",
    "                    count_ = w[\"count\"]\n",
    "                    ALL_percentage = w[\"percentage\"]\n",
    "                    col2[\"brands\"].append(brand_name)\n",
    "                    col2[\"Count\"].append(count_)\n",
    "                    col2[\"Percentage\"].append(ALL_percentage)\n",
    "                    col2[\"State\"].append(i)\n",
    "                    col2[\"Year\"].append(j)\n",
    "                    col2[\"Quater\"].append(int(k.strip('.json')))\n",
    "            except:\n",
    "                pass\n",
    "df_aggregated_user = pd.DataFrame(col2)"
   ]
  },
  {
   "cell_type": "code",
   "execution_count": 9,
   "id": "2e79c3f1",
   "metadata": {},
   "outputs": [],
   "source": [
    "#df_aggregated_user"
   ]
  },
  {
   "cell_type": "code",
   "execution_count": 5,
   "id": "18db1627",
   "metadata": {},
   "outputs": [],
   "source": [
    "# TO GET THE DATA-FRAME OF MAP <--> TRANSACTION\n",
    "\n",
    "path3 = \"C:\\\\Users\\\\Sathya\\\\Downloads\\\\PhonePe\\\\pulse-master\\\\data\\\\map\\\\transaction\\\\hover\\\\country\\\\india\\\\state\\\\\"\n",
    "hover_list = os.listdir(path3)\n",
    "\n",
    "col3 = {'State': [], 'Year': [], 'Quater': [], 'District': [], 'count': [],\n",
    "        'amount': []}\n",
    "for i in hover_list:\n",
    "    p_i = path3 + i + \"/\"\n",
    "    Agg_yr = os.listdir(p_i)\n",
    "\n",
    "    for j in Agg_yr:\n",
    "        p_j = p_i + j + \"/\"\n",
    "        Agg_yr_list = os.listdir(p_j)\n",
    "\n",
    "        for k in Agg_yr_list:\n",
    "            p_k = p_j + k\n",
    "            # print(p_k)\n",
    "            Data = open(p_k, 'r')\n",
    "            C = json.load(Data)\n",
    "            for x in C[\"data\"][\"hoverDataList\"]:\n",
    "                District = x[\"name\"]\n",
    "                count = x[\"metric\"][0][\"count\"]\n",
    "                amount = x[\"metric\"][0][\"amount\"]\n",
    "                col3[\"District\"].append(District)\n",
    "                col3[\"count\"].append(count)\n",
    "                col3[\"amount\"].append(amount)\n",
    "                col3['State'].append(i)\n",
    "                col3['Year'].append(j)\n",
    "                col3['Quater'].append(int(k.strip('.json')))\n",
    "df_map_transaction = pd.DataFrame(col3)"
   ]
  },
  {
   "cell_type": "code",
   "execution_count": 7,
   "id": "9f16f00a",
   "metadata": {},
   "outputs": [],
   "source": [
    "#df_map_transaction"
   ]
  },
  {
   "cell_type": "code",
   "execution_count": 8,
   "id": "d30f1e33",
   "metadata": {},
   "outputs": [],
   "source": [
    "# TO GET THE DATA-FRAME OF MAP <--> USER\n",
    "\n",
    "path4 = \"C:\\\\Users\\\\Sathya\\\\Downloads\\\\PhonePe\\\\pulse-master\\\\data\\\\map\\\\user\\\\hover\\\\country\\\\india\\\\state\\\\\"\n",
    "map_list = os.listdir(path4)\n",
    "\n",
    "col4 = {\"State\": [], \"Year\": [], \"Quater\": [], \"District\": [],\n",
    "        \"RegisteredUser\": []}\n",
    "for i in map_list:\n",
    "    p_i = path4 + i + \"/\"\n",
    "    Agg_yr = os.listdir(p_i)\n",
    "\n",
    "    for j in Agg_yr:\n",
    "        p_j = p_i + j + \"/\"\n",
    "        Agg_yr_list = os.listdir(p_j)\n",
    "\n",
    "        for k in Agg_yr_list:\n",
    "            p_k = p_j + k\n",
    "            # print(p_k)\n",
    "            Data = open(p_k, 'r')\n",
    "            D = json.load(Data)\n",
    "\n",
    "            for u in D[\"data\"][\"hoverData\"].items():\n",
    "                district = u[0]\n",
    "                registereduser = u[1][\"registeredUsers\"]\n",
    "                col4[\"District\"].append(district)\n",
    "                col4[\"RegisteredUser\"].append(registereduser)\n",
    "                col4['State'].append(i)\n",
    "                col4['Year'].append(j)\n",
    "                col4['Quater'].append(int(k.strip('.json')))\n",
    "df_map_user = pd.DataFrame(col4)"
   ]
  },
  {
   "cell_type": "code",
   "execution_count": 9,
   "id": "e80b79bb",
   "metadata": {},
   "outputs": [],
   "source": [
    "#df_map_user"
   ]
  },
  {
   "cell_type": "code",
   "execution_count": 10,
   "id": "89c84c7e",
   "metadata": {},
   "outputs": [],
   "source": [
    "# TO GET THE DATA-FRAME OF TOP <--> TRANSACTION\n",
    "\n",
    "path5 = \"C:\\\\Users\\\\Sathya\\\\Downloads\\\\PhonePe\\\\pulse-master\\\\data\\\\top\\\\transaction\\\\country\\\\india\\\\state\\\\\"\n",
    "TOP_list = os.listdir(path5)\n",
    "\n",
    "col5 = {'State': [], 'Year': [], 'Quater': [], 'District': [], 'Transaction_count': [],\n",
    "        'Transaction_amount': []}\n",
    "for i in TOP_list:\n",
    "    p_i = path5 + i + \"/\"\n",
    "    Agg_yr = os.listdir(p_i)\n",
    "\n",
    "    for j in Agg_yr:\n",
    "        p_j = p_i + j + \"/\"\n",
    "        Agg_yr_list = os.listdir(p_j)\n",
    "\n",
    "        for k in Agg_yr_list:\n",
    "            p_k = p_j + k\n",
    "            # print(p_k)\n",
    "            Data = open(p_k, 'r')\n",
    "            E = json.load(Data)\n",
    "            for z in E['data']['pincodes']:\n",
    "                Name = z['entityName']\n",
    "                count = z['metric']['count']\n",
    "                amount = z['metric']['amount']\n",
    "                col5['District'].append(Name)\n",
    "                col5['Transaction_count'].append(count)\n",
    "                col5['Transaction_amount'].append(amount)\n",
    "                col5['State'].append(i)\n",
    "                col5['Year'].append(j)\n",
    "                col5['Quater'].append(int(k.strip('.json')))\n",
    "df_top_transaction = pd.DataFrame(col5)"
   ]
  },
  {
   "cell_type": "code",
   "execution_count": 17,
   "id": "7e3d6611",
   "metadata": {},
   "outputs": [],
   "source": [
    "#df_top_transaction"
   ]
  },
  {
   "cell_type": "code",
   "execution_count": 11,
   "id": "94dc7c91",
   "metadata": {},
   "outputs": [],
   "source": [
    "# TO GET THE DATA-FRAME OF TOP <--> USER\n",
    "\n",
    "path6 = \"C:\\\\Users\\\\Sathya\\\\Downloads\\\\PhonePe\\\\pulse-master\\\\data\\\\top\\\\user\\\\country\\\\india\\\\state\\\\\"\n",
    "USER_list = os.listdir(path6)\n",
    "\n",
    "col6 = {'State': [], 'Year': [], 'Quater': [], 'District': [],\n",
    "        'RegisteredUser': []}\n",
    "for i in USER_list:\n",
    "    p_i = path6 + i + \"/\"\n",
    "    Agg_yr = os.listdir(p_i)\n",
    "\n",
    "    for j in Agg_yr:\n",
    "        p_j = p_i + j + \"/\"\n",
    "        Agg_yr_list = os.listdir(p_j)\n",
    "\n",
    "        for k in Agg_yr_list:\n",
    "            p_k = p_j + k\n",
    "            # print(p_k)\n",
    "            Data = open(p_k, 'r')\n",
    "            F = json.load(Data)\n",
    "            for t in F['data']['pincodes']:\n",
    "                Name = t['name']\n",
    "                registeredUser = t['registeredUsers']\n",
    "                col6['District'].append(Name)\n",
    "                col6['RegisteredUser'].append(registeredUser)\n",
    "                col6['State'].append(i)\n",
    "                col6['Year'].append(j)\n",
    "                col6['Quater'].append(int(k.strip('.json')))\n",
    "df_top_user = pd.DataFrame(col6)"
   ]
  },
  {
   "cell_type": "code",
   "execution_count": 20,
   "id": "ff23111d",
   "metadata": {},
   "outputs": [],
   "source": [
    "#df_top_user"
   ]
  },
  {
   "cell_type": "code",
   "execution_count": 12,
   "id": "2c5f7589",
   "metadata": {},
   "outputs": [
    {
     "data": {
      "text/plain": [
       "8211"
      ]
     },
     "execution_count": 12,
     "metadata": {},
     "output_type": "execute_result"
    }
   ],
   "source": [
    "#CREATING CONNECTION WITH SQL SERVER\n",
    "connection = sqlite3.connect(\"phonepe pulse.db\")\n",
    "cursor = connection.cursor()\n",
    "df_aggregated_transaction.to_sql('aggregated_transaction', connection, if_exists='replace')\n",
    "df_aggregated_user.to_sql('aggregated_user', connection, if_exists='replace')\n",
    "df_map_transaction.to_sql('map_transaction', connection, if_exists='replace')\n",
    "df_map_user.to_sql('map_user', connection, if_exists='replace')\n",
    "df_top_transaction.to_sql('top_transaction', connection, if_exists='replace')\n",
    "df_top_user.to_sql('top_user', connection, if_exists='replace')"
   ]
  },
  {
   "cell_type": "code",
   "execution_count": null,
   "id": "5dd9104f",
   "metadata": {},
   "outputs": [],
   "source": []
  },
  {
   "cell_type": "code",
   "execution_count": null,
   "id": "a2869ede",
   "metadata": {},
   "outputs": [],
   "source": []
  },
  {
   "cell_type": "code",
   "execution_count": null,
   "id": "69cc8f5f",
   "metadata": {},
   "outputs": [],
   "source": []
  },
  {
   "cell_type": "code",
   "execution_count": null,
   "id": "08c1dacc",
   "metadata": {},
   "outputs": [],
   "source": []
  },
  {
   "cell_type": "code",
   "execution_count": null,
   "id": "a92bc97f",
   "metadata": {},
   "outputs": [],
   "source": []
  },
  {
   "cell_type": "code",
   "execution_count": null,
   "id": "2767cf05",
   "metadata": {},
   "outputs": [],
   "source": []
  }
 ],
 "metadata": {
  "kernelspec": {
   "display_name": "Python 3 (ipykernel)",
   "language": "python",
   "name": "python3"
  },
  "language_info": {
   "codemirror_mode": {
    "name": "ipython",
    "version": 3
   },
   "file_extension": ".py",
   "mimetype": "text/x-python",
   "name": "python",
   "nbconvert_exporter": "python",
   "pygments_lexer": "ipython3",
   "version": "3.10.9"
  }
 },
 "nbformat": 4,
 "nbformat_minor": 5
}
